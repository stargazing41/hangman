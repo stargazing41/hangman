{
 "cells": [
  {
   "cell_type": "code",
   "execution_count": 28,
   "metadata": {},
   "outputs": [
    {
     "name": "stdout",
     "output_type": "stream",
     "text": [
      "W\n",
      "h\n",
      "e\n",
      "n\n",
      " \n",
      "i\n",
      "s\n",
      " \n",
      "t\n",
      "h\n",
      "e\n",
      " \n",
      "T\n",
      "h\n",
      "a\n",
      "n\n",
      "k\n",
      "s\n",
      "g\n",
      "i\n",
      "v\n",
      "i\n",
      "n\n",
      "g\n",
      " \n",
      "w\n",
      "e\n",
      "e\n",
      "k\n",
      "e\n",
      "n\n",
      "d\n",
      "?\n"
     ]
    }
   ],
   "source": [
    "test='When is the Thanksgiving weekend?'\n",
    "for apple in range (0,len(test)):\n",
    "    print(test[apple])"
   ]
  },
  {
   "cell_type": "code",
   "execution_count": 10,
   "metadata": {},
   "outputs": [
    {
     "name": "stdout",
     "output_type": "stream",
     "text": [
      "W\n",
      "h\n",
      "e\n",
      "n\n",
      " \n",
      "i\n",
      "s\n",
      " \n",
      "t\n",
      "h\n",
      "e\n",
      " \n",
      "T\n",
      "h\n",
      "a\n",
      "n\n",
      "k\n",
      "s\n",
      "g\n",
      "i\n",
      "v\n",
      "i\n",
      "n\n",
      "g\n",
      " \n",
      "w\n",
      "e\n",
      "e\n",
      "k\n",
      "e\n",
      "n\n",
      "d\n",
      "?\n"
     ]
    }
   ],
   "source": [
    "apple=0\n",
    "while(apple<=32):\n",
    "    print(test[apple])\n",
    "    apple=apple+1\n",
    "apple=0"
   ]
  },
  {
   "cell_type": "code",
   "execution_count": 9,
   "metadata": {},
   "outputs": [
    {
     "ename": "IndentationError",
     "evalue": "expected an indented block (<ipython-input-9-933f0cc15098>, line 7)",
     "output_type": "error",
     "traceback": [
      "\u001b[0;36m  File \u001b[0;32m\"<ipython-input-9-933f0cc15098>\"\u001b[0;36m, line \u001b[0;32m7\u001b[0m\n\u001b[0;31m    if test[apple]=='t':\u001b[0m\n\u001b[0m     ^\u001b[0m\n\u001b[0;31mIndentationError\u001b[0m\u001b[0;31m:\u001b[0m expected an indented block\n"
     ]
    }
   ],
   "source": [
    "i=0\n",
    "t=0\n",
    "e=0\n",
    "for apple in range (0,len(test)):\n",
    "    if test[apple]=='i':\n",
    "        \n",
    "    if test[apple]=='t':\n",
    "        t=t+1"
   ]
  },
  {
   "cell_type": "code",
   "execution_count": 6,
   "metadata": {},
   "outputs": [
    {
     "ename": "IndentationError",
     "evalue": "expected an indented block (<ipython-input-6-abc2c98c6cfd>, line 7)",
     "output_type": "error",
     "traceback": [
      "\u001b[0;36m  File \u001b[0;32m\"<ipython-input-6-abc2c98c6cfd>\"\u001b[0;36m, line \u001b[0;32m7\u001b[0m\n\u001b[0;31m    if test[apple]=='t':\u001b[0m\n\u001b[0m     ^\u001b[0m\n\u001b[0;31mIndentationError\u001b[0m\u001b[0;31m:\u001b[0m expected an indented block\n"
     ]
    }
   ],
   "source": [
    "i=0\n",
    "t=0\n",
    "apple=0\n",
    "while (apple<=32):\n",
    "    if test[apple]=='i':\n",
    "        i=i+1\n",
    "    if test[apple]=='t':\n",
    "        t=t+1\n",
    "    apple=apple+1"
   ]
  },
  {
   "cell_type": "code",
   "execution_count": 15,
   "metadata": {},
   "outputs": [
    {
     "data": {
      "text/plain": [
       "0"
      ]
     },
     "execution_count": 15,
     "metadata": {},
     "output_type": "execute_result"
    }
   ],
   "source": [
    "t"
   ]
  },
  {
   "cell_type": "code",
   "execution_count": 1,
   "metadata": {},
   "outputs": [],
   "source": [
    "lol=0\n",
    "u=0\n",
    "input=[12,3,5,6,35,390,43,1,498]\n",
    "for lol in range (0,9):\n",
    "    if input[lol]>100:\n",
    "        u=u+1"
   ]
  },
  {
   "cell_type": "code",
   "execution_count": 2,
   "metadata": {},
   "outputs": [
    {
     "data": {
      "text/plain": [
       "2"
      ]
     },
     "execution_count": 2,
     "metadata": {},
     "output_type": "execute_result"
    }
   ],
   "source": [
    "u"
   ]
  },
  {
   "cell_type": "code",
   "execution_count": 6,
   "metadata": {},
   "outputs": [],
   "source": [
    "lol=0\n",
    "u=0\n",
    "while (lol<9):\n",
    "    if input[lol]>100:\n",
    "        u=u+1\n",
    "    lol=lol+1"
   ]
  },
  {
   "cell_type": "code",
   "execution_count": 9,
   "metadata": {},
   "outputs": [
    {
     "data": {
      "text/plain": [
       "2"
      ]
     },
     "execution_count": 9,
     "metadata": {},
     "output_type": "execute_result"
    }
   ],
   "source": [
    "u"
   ]
  },
  {
   "cell_type": "code",
   "execution_count": 79,
   "metadata": {},
   "outputs": [],
   "source": [
    "input=[12,3,5,6,35,390,43,1,498]\n",
    "n=0\n",
    "o=0\n",
    "for n in range (0,9):\n",
    "    if input[n]%2==0:\n",
    "        o=o+1"
   ]
  },
  {
   "cell_type": "code",
   "execution_count": 30,
   "metadata": {},
   "outputs": [
    {
     "data": {
      "text/plain": [
       "8"
      ]
     },
     "execution_count": 30,
     "metadata": {},
     "output_type": "execute_result"
    }
   ],
   "source": [
    "n"
   ]
  },
  {
   "cell_type": "code",
   "execution_count": 57,
   "metadata": {},
   "outputs": [
    {
     "data": {
      "text/plain": [
       "4"
      ]
     },
     "execution_count": 57,
     "metadata": {},
     "output_type": "execute_result"
    }
   ],
   "source": [
    "o"
   ]
  },
  {
   "cell_type": "code",
   "execution_count": 78,
   "metadata": {},
   "outputs": [],
   "source": [
    "input=[12,3,5,6,35,390,43,1,498]\n",
    "n=0\n",
    "o=0\n",
    "while (n<9):\n",
    "    if input[n]%2==0:\n",
    "        o=o+1\n",
    "    n=n+1"
   ]
  },
  {
   "cell_type": "code",
   "execution_count": 70,
   "metadata": {},
   "outputs": [
    {
     "data": {
      "text/plain": [
       "9"
      ]
     },
     "execution_count": 70,
     "metadata": {},
     "output_type": "execute_result"
    }
   ],
   "source": [
    "n"
   ]
  },
  {
   "cell_type": "code",
   "execution_count": 71,
   "metadata": {},
   "outputs": [
    {
     "data": {
      "text/plain": [
       "4"
      ]
     },
     "execution_count": 71,
     "metadata": {},
     "output_type": "execute_result"
    }
   ],
   "source": [
    "o"
   ]
  },
  {
   "cell_type": "code",
   "execution_count": 87,
   "metadata": {},
   "outputs": [],
   "source": [
    "input=[12,3,5,6,35,390,43,1,498]\n",
    "n=0\n",
    "o=0\n",
    "for n in range (0,9):\n",
    "    if input[n]%2==1:\n",
    "        o=o+1"
   ]
  },
  {
   "cell_type": "code",
   "execution_count": 86,
   "metadata": {},
   "outputs": [
    {
     "data": {
      "text/plain": [
       "8"
      ]
     },
     "execution_count": 86,
     "metadata": {},
     "output_type": "execute_result"
    }
   ],
   "source": [
    "n"
   ]
  },
  {
   "cell_type": "code",
   "execution_count": 88,
   "metadata": {},
   "outputs": [
    {
     "data": {
      "text/plain": [
       "5"
      ]
     },
     "execution_count": 88,
     "metadata": {},
     "output_type": "execute_result"
    }
   ],
   "source": [
    "o"
   ]
  },
  {
   "cell_type": "code",
   "execution_count": 78,
   "metadata": {},
   "outputs": [],
   "source": [
    "input=[12,3,5,6,35,390,43,1,498]\n",
    "o=0\n",
    "for n in range (0,9):\n",
    "    if input[n]%2==0:\n",
    "        if input[n]>10:\n",
    "            o=o+1"
   ]
  },
  {
   "cell_type": "code",
   "execution_count": 79,
   "metadata": {},
   "outputs": [
    {
     "data": {
      "text/plain": [
       "2"
      ]
     },
     "execution_count": 79,
     "metadata": {},
     "output_type": "execute_result"
    }
   ],
   "source": [
    "o"
   ]
  },
  {
   "cell_type": "code",
   "execution_count": 92,
   "metadata": {},
   "outputs": [
    {
     "data": {
      "text/plain": [
       "8"
      ]
     },
     "execution_count": 92,
     "metadata": {},
     "output_type": "execute_result"
    }
   ],
   "source": [
    "n"
   ]
  },
  {
   "cell_type": "code",
   "execution_count": 26,
   "metadata": {},
   "outputs": [],
   "source": [
    "input=[12,3,5,6,35,390,43,1,498]\n",
    "n=0\n",
    "o=0\n",
    "while(n<9):\n",
    "    if input[n]%2==0:\n",
    "        if input[n]>10:\n",
    "            o=o+1\n",
    "    n=n+1"
   ]
  },
  {
   "cell_type": "code",
   "execution_count": 66,
   "metadata": {},
   "outputs": [],
   "source": [
    "input=\"When is the Thanksgiving weekend?\"\n",
    "w=0\n",
    "t=0\n",
    "it=0\n",
    "for it in range (0,len(input)):\n",
    "    if input[it]==\"W\":\n",
    "        w=w+1\n",
    "    else:\n",
    "        if input[it]==\"w\":\n",
    "            w=w+1"
   ]
  },
  {
   "cell_type": "code",
   "execution_count": 68,
   "metadata": {},
   "outputs": [
    {
     "data": {
      "text/plain": [
       "2"
      ]
     },
     "execution_count": 68,
     "metadata": {},
     "output_type": "execute_result"
    }
   ],
   "source": [
    "w"
   ]
  },
  {
   "cell_type": "code",
   "execution_count": 2,
   "metadata": {},
   "outputs": [],
   "source": [
    "input=\"When is the Thanksgiving weekend?\"\n",
    "w=0\n",
    "t=0\n",
    "it=0\n",
    "while(it<32):\n",
    "    if input[it]==\"W\":\n",
    "        w=w+1\n",
    "    else:\n",
    "        if input[it]==\"w\":\n",
    "            w=w+1\n",
    "    it=it+1"
   ]
  },
  {
   "cell_type": "code",
   "execution_count": 3,
   "metadata": {},
   "outputs": [
    {
     "data": {
      "text/plain": [
       "2"
      ]
     },
     "execution_count": 3,
     "metadata": {},
     "output_type": "execute_result"
    }
   ],
   "source": [
    "w"
   ]
  },
  {
   "cell_type": "code",
   "execution_count": null,
   "metadata": {},
   "outputs": [],
   "source": [
    "and an or both have a left and a right side "
   ]
  },
  {
   "cell_type": "code",
   "execution_count": 5,
   "metadata": {},
   "outputs": [
    {
     "data": {
      "text/plain": [
       "False"
      ]
     },
     "execution_count": 5,
     "metadata": {},
     "output_type": "execute_result"
    }
   ],
   "source": [
    "x=10\n",
    "x>2\n",
    "x>9\n",
    "x<100\n",
    "x>3 and x<100\n",
    "x<20 and x<100\n",
    "x>2 and x<9\n",
    "x>20 and x>100\n",
    "x>2 and x<100 and x>5\n",
    "x>2 and x<100 and x>50"
   ]
  },
  {
   "cell_type": "code",
   "execution_count": 6,
   "metadata": {},
   "outputs": [
    {
     "data": {
      "text/plain": [
       "True"
      ]
     },
     "execution_count": 6,
     "metadata": {},
     "output_type": "execute_result"
    }
   ],
   "source": [
    "x=10\n",
    "x>2\n",
    "x<9\n",
    "x>2 or x<9\n",
    "x<7 or x>3\n",
    "x<8 or x<3\n",
    "x>2 or x<9 or x>100 or x>20"
   ]
  },
  {
   "cell_type": "code",
   "execution_count": 7,
   "metadata": {},
   "outputs": [
    {
     "data": {
      "text/plain": [
       "True"
      ]
     },
     "execution_count": 7,
     "metadata": {},
     "output_type": "execute_result"
    }
   ],
   "source": [
    "(x>2 and x>7) or x>9\n",
    "(x>2 and x>7)or x>909\n",
    "x>2 and (x>7 or x>90)\n",
    "x>20 and (x>7 or x>90)\n",
    "x>2 and (x>7 or (x>9 and x<7))\n"
   ]
  },
  {
   "cell_type": "code",
   "execution_count": 15,
   "metadata": {},
   "outputs": [
    {
     "data": {
      "text/plain": [
       "True"
      ]
     },
     "execution_count": 15,
     "metadata": {},
     "output_type": "execute_result"
    }
   ],
   "source": [
    "x=10*20+90+30/2\n",
    "x>40 and (x>50 or x==70) and (x>=20) or (x<=200) and (x<190 or (x<=50)) and (x>908) or x==110 and x>55 or x<65 and x>450"
   ]
  },
  {
   "cell_type": "code",
   "execution_count": 6,
   "metadata": {},
   "outputs": [],
   "source": [
    "input=[12,3,5,6,35,390,43,1,498]\n",
    "o=0\n",
    "for n in range (0,9):\n",
    "    if input[n]%2==0 and input[n]>10:\n",
    "        o=o+1\n",
    "    n=n+1"
   ]
  },
  {
   "cell_type": "code",
   "execution_count": 7,
   "metadata": {},
   "outputs": [
    {
     "data": {
      "text/plain": [
       "3"
      ]
     },
     "execution_count": 7,
     "metadata": {},
     "output_type": "execute_result"
    }
   ],
   "source": [
    "o"
   ]
  },
  {
   "cell_type": "code",
   "execution_count": 13,
   "metadata": {},
   "outputs": [],
   "source": [
    "input=[12,3,5,6,35,390,43,1,498]\n",
    "n=0\n",
    "o=0\n",
    "while(n<9):\n",
    "    if input[n]%2==0 and input[n]>10:\n",
    "        o=o+1\n",
    "    n=n+1"
   ]
  },
  {
   "cell_type": "code",
   "execution_count": 14,
   "metadata": {},
   "outputs": [
    {
     "data": {
      "text/plain": [
       "3"
      ]
     },
     "execution_count": 14,
     "metadata": {},
     "output_type": "execute_result"
    }
   ],
   "source": [
    "o"
   ]
  },
  {
   "cell_type": "code",
   "execution_count": 24,
   "metadata": {},
   "outputs": [],
   "source": [
    "input='When is the Thansgiving weekend?'\n",
    "w=0\n",
    "yum=0\n",
    "for yum in range (0,len(input)):\n",
    "    if input[yum]==\"W\" or input[yum]==\"w\":\n",
    "        w=w+1"
   ]
  },
  {
   "cell_type": "code",
   "execution_count": 25,
   "metadata": {},
   "outputs": [
    {
     "data": {
      "text/plain": [
       "2"
      ]
     },
     "execution_count": 25,
     "metadata": {},
     "output_type": "execute_result"
    }
   ],
   "source": [
    "w"
   ]
  },
  {
   "cell_type": "code",
   "execution_count": 35,
   "metadata": {},
   "outputs": [],
   "source": [
    "input='When is the Thanksgiving weekend?'\n",
    "w=0\n",
    "yum=0\n",
    "while (yum<len(input)):\n",
    "    if input[yum]==\"W\" or input[yum]==\"w\":\n",
    "        w=w+1\n",
    "    yum=yum+1"
   ]
  },
  {
   "cell_type": "code",
   "execution_count": 36,
   "metadata": {},
   "outputs": [
    {
     "data": {
      "text/plain": [
       "2"
      ]
     },
     "execution_count": 36,
     "metadata": {},
     "output_type": "execute_result"
    }
   ],
   "source": [
    "w"
   ]
  },
  {
   "cell_type": "code",
   "execution_count": 4,
   "metadata": {},
   "outputs": [
    {
     "name": "stdout",
     "output_type": "stream",
     "text": [
      "12\n",
      "6\n",
      "498\n"
     ]
    }
   ],
   "source": [
    "input=[12,3,5,6,35,390,43,1,498]\n",
    "x=0\n",
    "while (x<9):\n",
    "    if input[x]%5==0:\n",
    "        x=x+1\n",
    "        continue\n",
    "    if input[x]%2==0:\n",
    "        print (input[x])\n",
    "    x=x+1"
   ]
  },
  {
   "cell_type": "code",
   "execution_count": 7,
   "metadata": {},
   "outputs": [
    {
     "name": "stdout",
     "output_type": "stream",
     "text": [
      "12\n"
     ]
    }
   ],
   "source": [
    "input=[12,3,5,6,35,390,43,1,498]\n",
    "x=0\n",
    "while (x<9):\n",
    "    if input[x]%2==0:\n",
    "        print (input[x])\n",
    "        break"
   ]
  },
  {
   "cell_type": "code",
   "execution_count": 9,
   "metadata": {},
   "outputs": [
    {
     "name": "stdout",
     "output_type": "stream",
     "text": [
      "12\n",
      "6\n",
      "498\n"
     ]
    }
   ],
   "source": [
    "input=[12,3,5,6,35,390,43,1,498]\n",
    "x=0\n",
    "while (x<9):\n",
    "    if input [x]%2==0:\n",
    "        if input[x]%5!=0:\n",
    "            print (input[x])\n",
    "    x=x+1"
   ]
  },
  {
   "cell_type": "code",
   "execution_count": 26,
   "metadata": {},
   "outputs": [
    {
     "name": "stdout",
     "output_type": "stream",
     "text": [
      "12\n",
      "6\n"
     ]
    }
   ],
   "source": [
    "input=[12,3,5,6,35,390,1,498]\n",
    "x=0\n",
    "c=0\n",
    "for x in range (0,9):\n",
    "    if input[x]%2==0:\n",
    "        print (input[x])\n",
    "        c=c+1\n",
    "        if c==2: \n",
    "            break"
   ]
  },
  {
   "cell_type": "code",
   "execution_count": 35,
   "metadata": {},
   "outputs": [
    {
     "name": "stdout",
     "output_type": "stream",
     "text": [
      "12\n",
      "6\n"
     ]
    }
   ],
   "source": [
    "input=[12,3,5,6,35,390,1,498]\n",
    "x=0\n",
    "c=0\n",
    "while(x<9):\n",
    "    if input[x]%2==0:\n",
    "        print (input[x])\n",
    "        c=c+1\n",
    "        if c==2:\n",
    "            break\n",
    "    x=x+1"
   ]
  },
  {
   "cell_type": "code",
   "execution_count": 217,
   "metadata": {},
   "outputs": [
    {
     "name": "stdout",
     "output_type": "stream",
     "text": [
      "grade 9\n"
     ]
    }
   ],
   "source": [
    "age=9\n",
    "if age >=18:\n",
    "    print('college age%d'%age)\n",
    "elif age >=15:\n",
    "    print ('highschool age%d'% age)\n",
    "elif age >=10:\n",
    "    print ('elementry age%d'%age)\n",
    "elif age >=9:\n",
    "    print('grade %d'%age)\n",
    "else:\n",
    "    print('too young')"
   ]
  },
  {
   "cell_type": "code",
   "execution_count": 213,
   "metadata": {},
   "outputs": [
    {
     "name": "stdout",
     "output_type": "stream",
     "text": [
      "4\n",
      "56\n",
      "20\n",
      "14\n",
      "30\n",
      "58\n",
      "74\n",
      "16\n",
      "38\n",
      "76\n"
     ]
    }
   ],
   "source": [
    "import random\n",
    "\n",
    "c=0\n",
    "while (c<10):\n",
    "    age=random.randint(0,100)\n",
    "    if age%2==0:\n",
    "        print(age)\n",
    "        c=c+1"
   ]
  },
  {
   "cell_type": "code",
   "execution_count": 33,
   "metadata": {
    "scrolled": true
   },
   "outputs": [
    {
     "name": "stdout",
     "output_type": "stream",
     "text": [
      "12\n",
      "88\n",
      "52\n",
      "72\n",
      "52\n",
      "50\n",
      "8\n",
      "20\n",
      "88\n",
      "28\n",
      "there are 2 numbers that can be evenly divided by 3\n",
      "there are 2 numbers that can be evenly divided by 5\n",
      "there are 1 numbers that can be evenly divided by7\n"
     ]
    }
   ],
   "source": [
    "import random\n",
    "\n",
    "c=0\n",
    "x=0\n",
    "j=0\n",
    "n=0\n",
    "while (c<10):\n",
    "    age=random.randint(0,100)\n",
    "    if age%2==0:\n",
    "        print(age)\n",
    "        c=c+1\n",
    "        if age%3==0:\n",
    "            x=x+1\n",
    "        if age%5==0:\n",
    "            j=j+1\n",
    "        if age%7==0:\n",
    "            n=n+1\n",
    "print('there are %d numbers that can be evenly divided by 3'%x)\n",
    "print('there are %d numbers that can be evenly divided by 5'%j)\n",
    "print('there are %d numbers that can be evenly divided by7'%n) "
   ]
  },
  {
   "cell_type": "code",
   "execution_count": 156,
   "metadata": {},
   "outputs": [
    {
     "data": {
      "text/plain": [
       "10"
      ]
     },
     "execution_count": 156,
     "metadata": {},
     "output_type": "execute_result"
    }
   ],
   "source": [
    "c"
   ]
  },
  {
   "cell_type": "code",
   "execution_count": 30,
   "metadata": {},
   "outputs": [
    {
     "data": {
      "text/plain": [
       "17"
      ]
     },
     "execution_count": 30,
     "metadata": {},
     "output_type": "execute_result"
    }
   ],
   "source": [
    "import random\n",
    "\n",
    "random.randint(0,100)"
   ]
  },
  {
   "cell_type": "code",
   "execution_count": 46,
   "metadata": {},
   "outputs": [
    {
     "name": "stdout",
     "output_type": "stream",
     "text": [
      "437\n"
     ]
    }
   ],
   "source": [
    "var=[39,4,5,12,340,0,9,437,1]\n",
    "m=var[0]\n",
    "for i in range (1,len(var)):\n",
    "    if m<var[i]:\n",
    "        m=var[i]\n",
    "print(m)"
   ]
  },
  {
   "cell_type": "code",
   "execution_count": 51,
   "metadata": {},
   "outputs": [
    {
     "name": "stdout",
     "output_type": "stream",
     "text": [
      "4\n"
     ]
    }
   ],
   "source": [
    "var=[39,4,5,12,34,40,9,43,12, 789, 12,49]\n",
    "m=var[0]\n",
    "for i in range (1,len(var)):\n",
    "    if m>var[i]:\n",
    "        m=var[i]\n",
    "print(m)"
   ]
  },
  {
   "cell_type": "code",
   "execution_count": 114,
   "metadata": {},
   "outputs": [
    {
     "data": {
      "text/plain": [
       "133045223271459493186969661554225608779"
      ]
     },
     "execution_count": 114,
     "metadata": {},
     "output_type": "execute_result"
    }
   ],
   "source": [
    "import random\n",
    "\n",
    "random.randint(,198547176097937408912378947329748473789)"
   ]
  }
 ],
 "metadata": {
  "kernelspec": {
   "display_name": "Python 3",
   "language": "python",
   "name": "python3"
  },
  "language_info": {
   "codemirror_mode": {
    "name": "ipython",
    "version": 3
   },
   "file_extension": ".py",
   "mimetype": "text/x-python",
   "name": "python",
   "nbconvert_exporter": "python",
   "pygments_lexer": "ipython3",
   "version": "3.7.4"
  }
 },
 "nbformat": 4,
 "nbformat_minor": 2
}
