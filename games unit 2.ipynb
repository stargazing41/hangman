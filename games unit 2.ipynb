{
 "cells": [
  {
   "cell_type": "code",
   "execution_count": 12,
   "metadata": {},
   "outputs": [
    {
     "ename": "SyntaxError",
     "evalue": "invalid syntax (<ipython-input-12-19707105a362>, line 9)",
     "output_type": "error",
     "traceback": [
      "\u001b[0;36m  File \u001b[0;32m\"<ipython-input-12-19707105a362>\"\u001b[0;36m, line \u001b[0;32m9\u001b[0m\n\u001b[0;31m    if anser='rock'and l='paper':\u001b[0m\n\u001b[0m            ^\u001b[0m\n\u001b[0;31mSyntaxError\u001b[0m\u001b[0;31m:\u001b[0m invalid syntax\n"
     ]
    }
   ],
   "source": [
    "import random\n",
    "p=0\n",
    "c=0\n",
    "l=0\n",
    "h=0\n",
    "k=0\n",
    "var=['rock','paper','scisser']\n",
    "l=random.randint(0,2)\n",
    "while(h<=5):\n",
    "    k=var[l]\n",
    "    anser=input()\n",
    "    if anser=='rock'and k=='paper':\n",
    "        c=c+1\n",
    "        h=h+1\n",
    "    elif anser=='rock' and k=='scisser':\n",
    "        p=p+1\n",
    "        h=h+1\n",
    "    if h==5:\n",
    "          if c>p:\n",
    "            print('computer wins')\n",
    "        else:\n",
    "            print('player wins')\n",
    "        break\n",
    "    elif anser=='rock' and k=='rock':\n",
    "        c=c+0\n",
    "        p=p+0\n",
    "        h=h+1\n",
    "    if h==5:\n",
    "          if c>p:\n",
    "            print('computer wins')\n",
    "        else:\n",
    "            print('player wins')\n",
    "        break\n",
    "    elif anser=='paper' and k=='rock':\n",
    "        p=p+1\n",
    "        h=h+1\n",
    "    if h==5:\n",
    "          if c>p:\n",
    "            print('computer wins')\n",
    "        else:\n",
    "            print('player wins')\n",
    "        break\n",
    "    elif anser=='paper' and k=='scisser':\n",
    "        c=c+1\n",
    "        h=h+1\n",
    "    if h==5:\n",
    "          if c>p:\n",
    "            print('computer wins')\n",
    "        else:\n",
    "            print('player wins')\n",
    "        break\n",
    "    elif anser=='paper' and k=='paper':\n",
    "        c=c+0\n",
    "        p=p+0\n",
    "        h=h+1\n",
    "    if h==5:\n",
    "          if c>p:\n",
    "            print('computer wins')\n",
    "        else:\n",
    "            print('player wins')\n",
    "        break\n",
    "    elif anser=='scisser' and k=='rock':\n",
    "        c=c+1\n",
    "        h=h+1\n",
    "    if h==5:\n",
    "          if c>p:\n",
    "            print('computer wins')\n",
    "        else:\n",
    "            print('player wins')\n",
    "        break\n",
    "    elif anser=='scisser' and k=='scisser':\n",
    "        c=c+0\n",
    "        p=p+0\n",
    "        h=h+1\n",
    "    if h=3:\n",
    "        if c>p:\n",
    "            print('computer wins')\n",
    "        else:\n",
    "            print('player wins')\n",
    "        break\n",
    "    elif anser=='scisser' and k=='paper':\n",
    "        p=p+1\n",
    "        h=h+1\n",
    "    if h==5:\n",
    "        if c>p:\n",
    "            print('computer wins')\n",
    "        else:\n",
    "            print('player wins')\n",
    "        break"
   ]
  },
  {
   "cell_type": "code",
   "execution_count": 154,
   "metadata": {},
   "outputs": [
    {
     "ename": "KeyboardInterrupt",
     "evalue": "",
     "output_type": "error",
     "traceback": [
      "\u001b[0;31m---------------------------------------------------------------------------\u001b[0m",
      "\u001b[0;31mKeyboardInterrupt\u001b[0m                         Traceback (most recent call last)",
      "\u001b[0;32m~/opt/anaconda3/lib/python3.7/site-packages/ipykernel/kernelbase.py\u001b[0m in \u001b[0;36m_input_request\u001b[0;34m(self, prompt, ident, parent, password)\u001b[0m\n\u001b[1;32m    884\u001b[0m             \u001b[0;32mtry\u001b[0m\u001b[0;34m:\u001b[0m\u001b[0;34m\u001b[0m\u001b[0;34m\u001b[0m\u001b[0m\n\u001b[0;32m--> 885\u001b[0;31m                 \u001b[0mident\u001b[0m\u001b[0;34m,\u001b[0m \u001b[0mreply\u001b[0m \u001b[0;34m=\u001b[0m \u001b[0mself\u001b[0m\u001b[0;34m.\u001b[0m\u001b[0msession\u001b[0m\u001b[0;34m.\u001b[0m\u001b[0mrecv\u001b[0m\u001b[0;34m(\u001b[0m\u001b[0mself\u001b[0m\u001b[0;34m.\u001b[0m\u001b[0mstdin_socket\u001b[0m\u001b[0;34m,\u001b[0m \u001b[0;36m0\u001b[0m\u001b[0;34m)\u001b[0m\u001b[0;34m\u001b[0m\u001b[0;34m\u001b[0m\u001b[0m\n\u001b[0m\u001b[1;32m    886\u001b[0m             \u001b[0;32mexcept\u001b[0m \u001b[0mException\u001b[0m\u001b[0;34m:\u001b[0m\u001b[0;34m\u001b[0m\u001b[0;34m\u001b[0m\u001b[0m\n",
      "\u001b[0;32m~/opt/anaconda3/lib/python3.7/site-packages/jupyter_client/session.py\u001b[0m in \u001b[0;36mrecv\u001b[0;34m(self, socket, mode, content, copy)\u001b[0m\n\u001b[1;32m    802\u001b[0m         \u001b[0;32mtry\u001b[0m\u001b[0;34m:\u001b[0m\u001b[0;34m\u001b[0m\u001b[0;34m\u001b[0m\u001b[0m\n\u001b[0;32m--> 803\u001b[0;31m             \u001b[0mmsg_list\u001b[0m \u001b[0;34m=\u001b[0m \u001b[0msocket\u001b[0m\u001b[0;34m.\u001b[0m\u001b[0mrecv_multipart\u001b[0m\u001b[0;34m(\u001b[0m\u001b[0mmode\u001b[0m\u001b[0;34m,\u001b[0m \u001b[0mcopy\u001b[0m\u001b[0;34m=\u001b[0m\u001b[0mcopy\u001b[0m\u001b[0;34m)\u001b[0m\u001b[0;34m\u001b[0m\u001b[0;34m\u001b[0m\u001b[0m\n\u001b[0m\u001b[1;32m    804\u001b[0m         \u001b[0;32mexcept\u001b[0m \u001b[0mzmq\u001b[0m\u001b[0;34m.\u001b[0m\u001b[0mZMQError\u001b[0m \u001b[0;32mas\u001b[0m \u001b[0me\u001b[0m\u001b[0;34m:\u001b[0m\u001b[0;34m\u001b[0m\u001b[0;34m\u001b[0m\u001b[0m\n",
      "\u001b[0;32m~/opt/anaconda3/lib/python3.7/site-packages/zmq/sugar/socket.py\u001b[0m in \u001b[0;36mrecv_multipart\u001b[0;34m(self, flags, copy, track)\u001b[0m\n\u001b[1;32m    474\u001b[0m         \"\"\"\n\u001b[0;32m--> 475\u001b[0;31m         \u001b[0mparts\u001b[0m \u001b[0;34m=\u001b[0m \u001b[0;34m[\u001b[0m\u001b[0mself\u001b[0m\u001b[0;34m.\u001b[0m\u001b[0mrecv\u001b[0m\u001b[0;34m(\u001b[0m\u001b[0mflags\u001b[0m\u001b[0;34m,\u001b[0m \u001b[0mcopy\u001b[0m\u001b[0;34m=\u001b[0m\u001b[0mcopy\u001b[0m\u001b[0;34m,\u001b[0m \u001b[0mtrack\u001b[0m\u001b[0;34m=\u001b[0m\u001b[0mtrack\u001b[0m\u001b[0;34m)\u001b[0m\u001b[0;34m]\u001b[0m\u001b[0;34m\u001b[0m\u001b[0;34m\u001b[0m\u001b[0m\n\u001b[0m\u001b[1;32m    476\u001b[0m         \u001b[0;31m# have first part already, only loop while more to receive\u001b[0m\u001b[0;34m\u001b[0m\u001b[0;34m\u001b[0m\u001b[0;34m\u001b[0m\u001b[0m\n",
      "\u001b[0;32mzmq/backend/cython/socket.pyx\u001b[0m in \u001b[0;36mzmq.backend.cython.socket.Socket.recv\u001b[0;34m()\u001b[0m\n",
      "\u001b[0;32mzmq/backend/cython/socket.pyx\u001b[0m in \u001b[0;36mzmq.backend.cython.socket.Socket.recv\u001b[0;34m()\u001b[0m\n",
      "\u001b[0;32mzmq/backend/cython/socket.pyx\u001b[0m in \u001b[0;36mzmq.backend.cython.socket._recv_copy\u001b[0;34m()\u001b[0m\n",
      "\u001b[0;32m~/opt/anaconda3/lib/python3.7/site-packages/zmq/backend/cython/checkrc.pxd\u001b[0m in \u001b[0;36mzmq.backend.cython.checkrc._check_rc\u001b[0;34m()\u001b[0m\n",
      "\u001b[0;31mKeyboardInterrupt\u001b[0m: ",
      "\nDuring handling of the above exception, another exception occurred:\n",
      "\u001b[0;31mKeyboardInterrupt\u001b[0m                         Traceback (most recent call last)",
      "\u001b[0;32m<ipython-input-154-752efc8223f5>\u001b[0m in \u001b[0;36m<module>\u001b[0;34m\u001b[0m\n\u001b[1;32m     15\u001b[0m     \u001b[0ml\u001b[0m\u001b[0;34m=\u001b[0m\u001b[0mrandom\u001b[0m\u001b[0;34m.\u001b[0m\u001b[0mrandint\u001b[0m\u001b[0;34m(\u001b[0m\u001b[0;36m0\u001b[0m\u001b[0;34m,\u001b[0m\u001b[0;36m2\u001b[0m\u001b[0;34m)\u001b[0m\u001b[0;34m\u001b[0m\u001b[0;34m\u001b[0m\u001b[0m\n\u001b[1;32m     16\u001b[0m     \u001b[0mk\u001b[0m\u001b[0;34m=\u001b[0m\u001b[0mvar\u001b[0m\u001b[0;34m[\u001b[0m\u001b[0ml\u001b[0m\u001b[0;34m]\u001b[0m\u001b[0;34m\u001b[0m\u001b[0;34m\u001b[0m\u001b[0m\n\u001b[0;32m---> 17\u001b[0;31m     \u001b[0manser\u001b[0m\u001b[0;34m=\u001b[0m\u001b[0minput\u001b[0m\u001b[0;34m(\u001b[0m\u001b[0;34m)\u001b[0m\u001b[0;34m\u001b[0m\u001b[0;34m\u001b[0m\u001b[0m\n\u001b[0m\u001b[1;32m     18\u001b[0m \u001b[0;34m\u001b[0m\u001b[0m\n\u001b[1;32m     19\u001b[0m     \u001b[0;32mif\u001b[0m \u001b[0manser\u001b[0m\u001b[0;34m==\u001b[0m\u001b[0;34m'machine gun'\u001b[0m \u001b[0;32mand\u001b[0m \u001b[0mm\u001b[0m\u001b[0;34m>\u001b[0m\u001b[0;36m0\u001b[0m\u001b[0;34m:\u001b[0m\u001b[0;34m\u001b[0m\u001b[0;34m\u001b[0m\u001b[0m\n",
      "\u001b[0;32m~/opt/anaconda3/lib/python3.7/site-packages/ipykernel/kernelbase.py\u001b[0m in \u001b[0;36mraw_input\u001b[0;34m(self, prompt)\u001b[0m\n\u001b[1;32m    858\u001b[0m             \u001b[0mself\u001b[0m\u001b[0;34m.\u001b[0m\u001b[0m_parent_ident\u001b[0m\u001b[0;34m,\u001b[0m\u001b[0;34m\u001b[0m\u001b[0;34m\u001b[0m\u001b[0m\n\u001b[1;32m    859\u001b[0m             \u001b[0mself\u001b[0m\u001b[0;34m.\u001b[0m\u001b[0m_parent_header\u001b[0m\u001b[0;34m,\u001b[0m\u001b[0;34m\u001b[0m\u001b[0;34m\u001b[0m\u001b[0m\n\u001b[0;32m--> 860\u001b[0;31m             \u001b[0mpassword\u001b[0m\u001b[0;34m=\u001b[0m\u001b[0;32mFalse\u001b[0m\u001b[0;34m,\u001b[0m\u001b[0;34m\u001b[0m\u001b[0;34m\u001b[0m\u001b[0m\n\u001b[0m\u001b[1;32m    861\u001b[0m         )\n\u001b[1;32m    862\u001b[0m \u001b[0;34m\u001b[0m\u001b[0m\n",
      "\u001b[0;32m~/opt/anaconda3/lib/python3.7/site-packages/ipykernel/kernelbase.py\u001b[0m in \u001b[0;36m_input_request\u001b[0;34m(self, prompt, ident, parent, password)\u001b[0m\n\u001b[1;32m    888\u001b[0m             \u001b[0;32mexcept\u001b[0m \u001b[0mKeyboardInterrupt\u001b[0m\u001b[0;34m:\u001b[0m\u001b[0;34m\u001b[0m\u001b[0;34m\u001b[0m\u001b[0m\n\u001b[1;32m    889\u001b[0m                 \u001b[0;31m# re-raise KeyboardInterrupt, to truncate traceback\u001b[0m\u001b[0;34m\u001b[0m\u001b[0;34m\u001b[0m\u001b[0;34m\u001b[0m\u001b[0m\n\u001b[0;32m--> 890\u001b[0;31m                 \u001b[0;32mraise\u001b[0m \u001b[0mKeyboardInterrupt\u001b[0m\u001b[0;34m\u001b[0m\u001b[0;34m\u001b[0m\u001b[0m\n\u001b[0m\u001b[1;32m    891\u001b[0m             \u001b[0;32melse\u001b[0m\u001b[0;34m:\u001b[0m\u001b[0;34m\u001b[0m\u001b[0;34m\u001b[0m\u001b[0m\n\u001b[1;32m    892\u001b[0m                 \u001b[0;32mbreak\u001b[0m\u001b[0;34m\u001b[0m\u001b[0;34m\u001b[0m\u001b[0m\n",
      "\u001b[0;31mKeyboardInterrupt\u001b[0m: "
     ]
    }
   ],
   "source": [
    "import random\n",
    "\n",
    "c=0\n",
    "pl=0\n",
    "h=0\n",
    "k=0\n",
    "tie=0\n",
    "m=0\n",
    "b=0\n",
    "var=['rock','paper','scisser']\n",
    "pch=['r','s','p']\n",
    "guns=['machine gun','bazuca']\n",
    "comb=var+pch+guns\n",
    "while(h<5):\n",
    "    l=random.randint(0,2)\n",
    "    k=var[l]\n",
    "    anser=input()\n",
    "    \n",
    "    if anser=='machine gun' and m>0:\n",
    "        c=c+1\n",
    "        continue\n",
    "        \n",
    "    if anser=='bazuca' and b>0:\n",
    "        c=c+1\n",
    "        continue\n",
    "    \n",
    "    \n",
    "    if not (anser in comb):\n",
    "        continue\n",
    "        \n",
    "    if anser=='r':\n",
    "        print('player: %s'%var[0])\n",
    "    elif anser=='s':\n",
    "        print('player: %s'%var[2])\n",
    "    elif anser=='p':\n",
    "        print('player: %s'%var[1])\n",
    "    print('computer: %s'%k)\n",
    "    \n",
    "    if (anser=='rock' or anser== 'r') and k=='paper':\n",
    "        c=c+1\n",
    "    elif (anser=='rock' or anser=='r') and k=='scisser':\n",
    "        pl=pl+1\n",
    "    elif anser=='scisser' or anser=='s' and k=='paper':\n",
    "        pl=pl+1\n",
    "    elif (anser=='scisser' or anser=='s') and k=='rock':\n",
    "        c=c+1\n",
    "    elif (anser=='paper' or anser=='p') and k=='rock':\n",
    "        pl=pl+1\n",
    "    elif (anser=='paper' or anser=='p') and k=='scisser':\n",
    "        c=c+1\n",
    "    elif anser=='machine gun' and k=='rock':\n",
    "        pl=pl+2\n",
    "        m=m+1\n",
    "    elif anser=='machine gun' and k=='scisser':\n",
    "        pl=pl+2\n",
    "        m=m+1\n",
    "    elif anser=='machine gun' and k=='paper':\n",
    "        pl=pl+2\n",
    "        m=m+1\n",
    "    elif anser=='bazuca' and k=='paper':\n",
    "        pl=pl+1\n",
    "        b=b+1\n",
    "    elif anser=='bazuca' and k=='rock':\n",
    "        pl=pl+1\n",
    "        b=b+1\n",
    "    elif anser=='bazuca' and k=='rock':\n",
    "        pl=pl+1\n",
    "        b=b+1\n",
    "    else:\n",
    "        tie=tie+1\n",
    "    h=h+1\n",
    "        \n",
    "\n",
    "if c>pl:\n",
    "    print('computer wins')\n",
    "    print('to revive play the number game!!!!')\n",
    "elif c<pl:\n",
    "    print('player wins')\n",
    "else:\n",
    "    print('its a tie try again')\n",
    "print('the computers score is %d'%c)\n",
    "print('your score is %d'%pl)\n",
    "print('you had %d tie(s)'%tie)"
   ]
  },
  {
   "cell_type": "code",
   "execution_count": 34,
   "metadata": {
    "scrolled": true
   },
   "outputs": [],
   "source": [
    "comb=var+pch+guns"
   ]
  },
  {
   "cell_type": "code",
   "execution_count": 35,
   "metadata": {},
   "outputs": [
    {
     "data": {
      "text/plain": [
       "['rock', 'paper', 'scisser', 'r', 's', 'p', 'mahcine gun', 'bazuca']"
      ]
     },
     "execution_count": 35,
     "metadata": {},
     "output_type": "execute_result"
    }
   ],
   "source": [
    "comb"
   ]
  },
  {
   "cell_type": "code",
   "execution_count": null,
   "metadata": {},
   "outputs": [],
   "source": []
  },
  {
   "cell_type": "code",
   "execution_count": 157,
   "metadata": {},
   "outputs": [
    {
     "name": "stdout",
     "output_type": "stream",
     "text": [
      "ghost game\n",
      "you are in a haunted house and you see....\n",
      "three doors ahead...\n",
      "a ghost behind one\n",
      "which door do you open?\n",
      "1, 2, 3? you opened door:1\n",
      "no ghost\n",
      "you enter the through the door\n",
      "three doors ahead...\n",
      "a ghost behind one\n",
      "which door do you open?\n",
      "1, 2, 3? you opened door:2\n",
      "no ghost\n",
      "you enter the through the door\n",
      "three doors ahead...\n",
      "a ghost behind one\n",
      "which door do you open?\n",
      "1, 2, 3? you opened door:3\n",
      "no ghost\n",
      "you enter the through the door\n",
      "luckly you got out safly\n"
     ]
    }
   ],
   "source": [
    "import random\n",
    "\n",
    "from random import randint\n",
    "print ('ghost game')\n",
    "print('you are in a haunted house and you see....')\n",
    "feeling_brave = True\n",
    "score=0\n",
    "while feeling_brave:\n",
    "    ghost_door = random.randint(1,3)\n",
    "    print ('three doors ahead...')\n",
    "    print ('a ghost behind one')\n",
    "    print ('which door do you open?')\n",
    "    door = input ('1, 2, 3? you opened door:')\n",
    "    door_num = int(door)\n",
    "    if door_num == ghost_door:\n",
    "        print('ghost')\n",
    "        feeling_brave = False\n",
    "        print ('run away')\n",
    "        print ('to revive play the rock paper sissors game')\n",
    "        print ('game over! nice try! you score is %d'%score)\n",
    "    else:\n",
    "        print('no ghost')\n",
    "        print('you enter the through the door')\n",
    "        score=score+1\n",
    "        if score==3:\n",
    "            print ('luckly you got out safly')\n",
    "            break"
   ]
  },
  {
   "cell_type": "code",
   "execution_count": 172,
   "metadata": {},
   "outputs": [
    {
     "name": "stdout",
     "output_type": "stream",
     "text": [
      "ninja game get out safly with the chest you stole\n",
      "you are in a casle and you see....\n",
      "three doors ahead...\n",
      "a boobie trap in one\n",
      "which door do you open?\n",
      "1, 2, 3? you opened door:1\n",
      "no boobie trap\n",
      "you enter the through the door\n",
      "three doors ahead...\n",
      "a boobie trap in one\n",
      "which door do you open?\n",
      "1, 2, 3? you opened door:2\n",
      "no boobie trap\n",
      "you enter the through the door\n",
      "three doors ahead...\n",
      "a boobie trap in one\n",
      "which door do you open?\n",
      "1, 2, 3? you opened door:3\n",
      "no boobie trap\n",
      "you enter the through the door\n",
      "luckly you got out safly with the chest\n"
     ]
    }
   ],
   "source": [
    "import random\n",
    "\n",
    "from random import randint\n",
    "print ('ninja game get out safly with the chest you stole')\n",
    "print('a rober are in a casle and he sees....')\n",
    "feeling_brave = True\n",
    "score=0\n",
    "while feeling_brave:\n",
    "    ghost_door = random.randint(1,3)\n",
    "    print ('three doors ahead...')\n",
    "    print ('a boobie trap in one')\n",
    "    print ('which door does he open?')\n",
    "    door = input ('1, 2, 3? he opened door:')\n",
    "    door_num = int(door)\n",
    "    if door_num == ghost_door:\n",
    "        print('its a trap')\n",
    "        feeling_brave = False\n",
    "        print ('he has been cought')\n",
    "        print('to revive play the ghost game')\n",
    "        print ('game over! nice try! you score is %d'%score)\n",
    "    else:\n",
    "        print('no boobie trap')\n",
    "        print('he enter the through the door')\n",
    "        score=score+1\n",
    "        if score==3:\n",
    "            print ('luckly he got out safly with the chest')\n",
    "            break"
   ]
  },
  {
   "cell_type": "code",
   "execution_count": null,
   "metadata": {},
   "outputs": [],
   "source": []
  },
  {
   "cell_type": "code",
   "execution_count": 37,
   "metadata": {},
   "outputs": [
    {
     "name": "stdout",
     "output_type": "stream",
     "text": [
      "['good', 'bad', 'ok']\n",
      "['good', 'bad']\n",
      "ok\n",
      "['good']\n",
      "bad\n",
      "[]\n",
      "good\n"
     ]
    }
   ],
   "source": [
    "x=['good', 'bad', 'ok']\n",
    "print(x)\n",
    "y=x.pop()\n",
    "print(x)\n",
    "print(y)\n",
    "y=x.pop()\n",
    "print(x)\n",
    "print(y)\n",
    "y=x.pop()\n",
    "print(x)\n",
    "print(y)"
   ]
  },
  {
   "cell_type": "code",
   "execution_count": 56,
   "metadata": {},
   "outputs": [
    {
     "name": "stdout",
     "output_type": "stream",
     "text": [
      "['hello']\n"
     ]
    },
    {
     "data": {
      "text/plain": [
       "['i', 'm', ' ', 'a', ' ', 'b', 'a', 'n', 'a', 'n', 'a']"
      ]
     },
     "execution_count": 56,
     "metadata": {},
     "output_type": "execute_result"
    }
   ],
   "source": [
    " x=[]\n",
    "x.append('hello')\n",
    "print(x)\n",
    "x.append(\" i'm a bananana\")\n",
    "list('im a banana')"
   ]
  },
  {
   "cell_type": "code",
   "execution_count": 17,
   "metadata": {},
   "outputs": [],
   "source": [
    "import random\n",
    "\n",
    "from random import randint\n",
    "ce=0\n",
    "f_path='/Users/cao9026/workspace/derick/hangman/common_3K_words.txt'\n",
    "fh=open(f_path ,'r')\n",
    "data=fh.readlines()"
   ]
  },
  {
   "cell_type": "code",
   "execution_count": null,
   "metadata": {},
   "outputs": [],
   "source": []
  },
  {
   "cell_type": "code",
   "execution_count": null,
   "metadata": {},
   "outputs": [],
   "source": []
  },
  {
   "cell_type": "code",
   "execution_count": null,
   "metadata": {},
   "outputs": [],
   "source": []
  },
  {
   "cell_type": "code",
   "execution_count": 59,
   "metadata": {
    "scrolled": true
   },
   "outputs": [
    {
     "name": "stdout",
     "output_type": "stream",
     "text": [
      "['_', '_', '_', '_']\n",
      "a\n",
      "['_', '_', 'a', '_']\n"
     ]
    },
    {
     "ename": "KeyboardInterrupt",
     "evalue": "",
     "output_type": "error",
     "traceback": [
      "\u001b[0;31m---------------------------------------------------------------------------\u001b[0m",
      "\u001b[0;31mKeyboardInterrupt\u001b[0m                         Traceback (most recent call last)",
      "\u001b[0;32m/usr/local/lib/python3.7/site-packages/ipykernel/kernelbase.py\u001b[0m in \u001b[0;36m_input_request\u001b[0;34m(self, prompt, ident, parent, password)\u001b[0m\n\u001b[1;32m    883\u001b[0m             \u001b[0;32mtry\u001b[0m\u001b[0;34m:\u001b[0m\u001b[0;34m\u001b[0m\u001b[0;34m\u001b[0m\u001b[0m\n\u001b[0;32m--> 884\u001b[0;31m                 \u001b[0mident\u001b[0m\u001b[0;34m,\u001b[0m \u001b[0mreply\u001b[0m \u001b[0;34m=\u001b[0m \u001b[0mself\u001b[0m\u001b[0;34m.\u001b[0m\u001b[0msession\u001b[0m\u001b[0;34m.\u001b[0m\u001b[0mrecv\u001b[0m\u001b[0;34m(\u001b[0m\u001b[0mself\u001b[0m\u001b[0;34m.\u001b[0m\u001b[0mstdin_socket\u001b[0m\u001b[0;34m,\u001b[0m \u001b[0;36m0\u001b[0m\u001b[0;34m)\u001b[0m\u001b[0;34m\u001b[0m\u001b[0;34m\u001b[0m\u001b[0m\n\u001b[0m\u001b[1;32m    885\u001b[0m             \u001b[0;32mexcept\u001b[0m \u001b[0mException\u001b[0m\u001b[0;34m:\u001b[0m\u001b[0;34m\u001b[0m\u001b[0;34m\u001b[0m\u001b[0m\n",
      "\u001b[0;32m/usr/local/lib/python3.7/site-packages/jupyter_client/session.py\u001b[0m in \u001b[0;36mrecv\u001b[0;34m(self, socket, mode, content, copy)\u001b[0m\n\u001b[1;32m    812\u001b[0m         \u001b[0;32mtry\u001b[0m\u001b[0;34m:\u001b[0m\u001b[0;34m\u001b[0m\u001b[0;34m\u001b[0m\u001b[0m\n\u001b[0;32m--> 813\u001b[0;31m             \u001b[0mmsg_list\u001b[0m \u001b[0;34m=\u001b[0m \u001b[0msocket\u001b[0m\u001b[0;34m.\u001b[0m\u001b[0mrecv_multipart\u001b[0m\u001b[0;34m(\u001b[0m\u001b[0mmode\u001b[0m\u001b[0;34m,\u001b[0m \u001b[0mcopy\u001b[0m\u001b[0;34m=\u001b[0m\u001b[0mcopy\u001b[0m\u001b[0;34m)\u001b[0m\u001b[0;34m\u001b[0m\u001b[0;34m\u001b[0m\u001b[0m\n\u001b[0m\u001b[1;32m    814\u001b[0m         \u001b[0;32mexcept\u001b[0m \u001b[0mzmq\u001b[0m\u001b[0;34m.\u001b[0m\u001b[0mZMQError\u001b[0m \u001b[0;32mas\u001b[0m \u001b[0me\u001b[0m\u001b[0;34m:\u001b[0m\u001b[0;34m\u001b[0m\u001b[0;34m\u001b[0m\u001b[0m\n",
      "\u001b[0;32m/usr/local/lib/python3.7/site-packages/zmq/sugar/socket.py\u001b[0m in \u001b[0;36mrecv_multipart\u001b[0;34m(self, flags, copy, track)\u001b[0m\n\u001b[1;32m    474\u001b[0m         \"\"\"\n\u001b[0;32m--> 475\u001b[0;31m         \u001b[0mparts\u001b[0m \u001b[0;34m=\u001b[0m \u001b[0;34m[\u001b[0m\u001b[0mself\u001b[0m\u001b[0;34m.\u001b[0m\u001b[0mrecv\u001b[0m\u001b[0;34m(\u001b[0m\u001b[0mflags\u001b[0m\u001b[0;34m,\u001b[0m \u001b[0mcopy\u001b[0m\u001b[0;34m=\u001b[0m\u001b[0mcopy\u001b[0m\u001b[0;34m,\u001b[0m \u001b[0mtrack\u001b[0m\u001b[0;34m=\u001b[0m\u001b[0mtrack\u001b[0m\u001b[0;34m)\u001b[0m\u001b[0;34m]\u001b[0m\u001b[0;34m\u001b[0m\u001b[0;34m\u001b[0m\u001b[0m\n\u001b[0m\u001b[1;32m    476\u001b[0m         \u001b[0;31m# have first part already, only loop while more to receive\u001b[0m\u001b[0;34m\u001b[0m\u001b[0;34m\u001b[0m\u001b[0;34m\u001b[0m\u001b[0m\n",
      "\u001b[0;32mzmq/backend/cython/socket.pyx\u001b[0m in \u001b[0;36mzmq.backend.cython.socket.Socket.recv\u001b[0;34m()\u001b[0m\n",
      "\u001b[0;32mzmq/backend/cython/socket.pyx\u001b[0m in \u001b[0;36mzmq.backend.cython.socket.Socket.recv\u001b[0;34m()\u001b[0m\n",
      "\u001b[0;32mzmq/backend/cython/socket.pyx\u001b[0m in \u001b[0;36mzmq.backend.cython.socket._recv_copy\u001b[0;34m()\u001b[0m\n",
      "\u001b[0;32m/usr/local/lib/python3.7/site-packages/zmq/backend/cython/checkrc.pxd\u001b[0m in \u001b[0;36mzmq.backend.cython.checkrc._check_rc\u001b[0;34m()\u001b[0m\n",
      "\u001b[0;31mKeyboardInterrupt\u001b[0m: ",
      "\nDuring handling of the above exception, another exception occurred:\n",
      "\u001b[0;31mKeyboardInterrupt\u001b[0m                         Traceback (most recent call last)",
      "\u001b[0;32m<ipython-input-59-47db6cc3f0e4>\u001b[0m in \u001b[0;36m<module>\u001b[0;34m\u001b[0m\n\u001b[1;32m     10\u001b[0m \u001b[0;32mwhile\u001b[0m \u001b[0;34m(\u001b[0m\u001b[0mce\u001b[0m\u001b[0;34m<=\u001b[0m\u001b[0;36m9\u001b[0m\u001b[0;34m)\u001b[0m\u001b[0;34m:\u001b[0m\u001b[0;34m\u001b[0m\u001b[0;34m\u001b[0m\u001b[0m\n\u001b[1;32m     11\u001b[0m     \u001b[0mprint\u001b[0m\u001b[0;34m(\u001b[0m\u001b[0mp\u001b[0m\u001b[0;34m)\u001b[0m\u001b[0;34m\u001b[0m\u001b[0;34m\u001b[0m\u001b[0m\n\u001b[0;32m---> 12\u001b[0;31m     \u001b[0mj\u001b[0m\u001b[0;34m=\u001b[0m\u001b[0minput\u001b[0m\u001b[0;34m(\u001b[0m\u001b[0;34m)\u001b[0m\u001b[0;34m\u001b[0m\u001b[0;34m\u001b[0m\u001b[0m\n\u001b[0m\u001b[1;32m     13\u001b[0m     \u001b[0;32mif\u001b[0m \u001b[0mj\u001b[0m\u001b[0;34m==\u001b[0m\u001b[0;34m'hint'\u001b[0m\u001b[0;34m:\u001b[0m\u001b[0;34m\u001b[0m\u001b[0;34m\u001b[0m\u001b[0m\n\u001b[1;32m     14\u001b[0m         \u001b[0mhi\u001b[0m\u001b[0;34m=\u001b[0m\u001b[0mrandom\u001b[0m\u001b[0;34m.\u001b[0m\u001b[0mrandint\u001b[0m\u001b[0;34m(\u001b[0m\u001b[0;36m0\u001b[0m\u001b[0;34m,\u001b[0m\u001b[0;34m(\u001b[0m\u001b[0mlen\u001b[0m\u001b[0;34m(\u001b[0m\u001b[0mk\u001b[0m\u001b[0;34m)\u001b[0m\u001b[0;34m-\u001b[0m\u001b[0;36m1\u001b[0m\u001b[0;34m)\u001b[0m\u001b[0;34m)\u001b[0m\u001b[0;34m\u001b[0m\u001b[0;34m\u001b[0m\u001b[0m\n",
      "\u001b[0;32m/usr/local/lib/python3.7/site-packages/ipykernel/kernelbase.py\u001b[0m in \u001b[0;36mraw_input\u001b[0;34m(self, prompt)\u001b[0m\n\u001b[1;32m    857\u001b[0m             \u001b[0mself\u001b[0m\u001b[0;34m.\u001b[0m\u001b[0m_parent_ident\u001b[0m\u001b[0;34m,\u001b[0m\u001b[0;34m\u001b[0m\u001b[0;34m\u001b[0m\u001b[0m\n\u001b[1;32m    858\u001b[0m             \u001b[0mself\u001b[0m\u001b[0;34m.\u001b[0m\u001b[0m_parent_header\u001b[0m\u001b[0;34m,\u001b[0m\u001b[0;34m\u001b[0m\u001b[0;34m\u001b[0m\u001b[0m\n\u001b[0;32m--> 859\u001b[0;31m             \u001b[0mpassword\u001b[0m\u001b[0;34m=\u001b[0m\u001b[0;32mFalse\u001b[0m\u001b[0;34m,\u001b[0m\u001b[0;34m\u001b[0m\u001b[0;34m\u001b[0m\u001b[0m\n\u001b[0m\u001b[1;32m    860\u001b[0m         )\n\u001b[1;32m    861\u001b[0m \u001b[0;34m\u001b[0m\u001b[0m\n",
      "\u001b[0;32m/usr/local/lib/python3.7/site-packages/ipykernel/kernelbase.py\u001b[0m in \u001b[0;36m_input_request\u001b[0;34m(self, prompt, ident, parent, password)\u001b[0m\n\u001b[1;32m    887\u001b[0m             \u001b[0;32mexcept\u001b[0m \u001b[0mKeyboardInterrupt\u001b[0m\u001b[0;34m:\u001b[0m\u001b[0;34m\u001b[0m\u001b[0;34m\u001b[0m\u001b[0m\n\u001b[1;32m    888\u001b[0m                 \u001b[0;31m# re-raise KeyboardInterrupt, to truncate traceback\u001b[0m\u001b[0;34m\u001b[0m\u001b[0;34m\u001b[0m\u001b[0;34m\u001b[0m\u001b[0m\n\u001b[0;32m--> 889\u001b[0;31m                 \u001b[0;32mraise\u001b[0m \u001b[0mKeyboardInterrupt\u001b[0m\u001b[0;34m\u001b[0m\u001b[0;34m\u001b[0m\u001b[0m\n\u001b[0m\u001b[1;32m    890\u001b[0m             \u001b[0;32melse\u001b[0m\u001b[0;34m:\u001b[0m\u001b[0;34m\u001b[0m\u001b[0;34m\u001b[0m\u001b[0m\n\u001b[1;32m    891\u001b[0m                 \u001b[0;32mbreak\u001b[0m\u001b[0;34m\u001b[0m\u001b[0;34m\u001b[0m\u001b[0m\n",
      "\u001b[0;31mKeyboardInterrupt\u001b[0m: "
     ]
    }
   ],
   "source": [
    "import random \n",
    "\n",
    "from random import randint\n",
    "ce=0\n",
    "u=random.randint(0,3000)\n",
    "k=data[u]\n",
    "k=k.strip()\n",
    "h=len(k)\n",
    "p=['_']*h\n",
    "while (ce<=9): \n",
    "    print(p)\n",
    "    j=input()\n",
    "    if j=='hint':\n",
    "        hi=random.randint(0,(len(k)-1))\n",
    "        hin=k[hi]\n",
    "        while (hin in p):\n",
    "            hi=random.randint(0,(len(k)-1))\n",
    "            hin=k[hi]\n",
    "        print(hin)\n",
    "    elif (j in k):\n",
    "        for i in range (len(k)):\n",
    "            if j==k[i]:\n",
    "                p[i]=j\n",
    "            if j not in k:\n",
    "                print (False)\n",
    "                ce=ce+1\n",
    "            if (ce==9):\n",
    "                print('your running out of breath 1 try left')\n",
    "    if '_' not in p:\n",
    "        print('you win')\n",
    "        print('you actually did no crime')\n",
    "        break\n",
    "    if (ce==10):\n",
    "        print('you have been hanged')\n",
    "        print('R.I.P') \n",
    "        print('to revive play the ninja game to see if it was really you')\n",
    "print('the word was %s'%k)"
   ]
  },
  {
   "cell_type": "code",
   "execution_count": 23,
   "metadata": {},
   "outputs": [
    {
     "data": {
      "text/plain": [
       "'literary'"
      ]
     },
     "execution_count": 23,
     "metadata": {},
     "output_type": "execute_result"
    }
   ],
   "source": [
    "k"
   ]
  },
  {
   "cell_type": "code",
   "execution_count": 41,
   "metadata": {},
   "outputs": [
    {
     "name": "stdout",
     "output_type": "stream",
     "text": [
      "h\n"
     ]
    }
   ],
   "source": [
    "h=input()"
   ]
  },
  {
   "cell_type": "code",
   "execution_count": 42,
   "metadata": {},
   "outputs": [
    {
     "data": {
      "text/plain": [
       "'h'"
      ]
     },
     "execution_count": 42,
     "metadata": {},
     "output_type": "execute_result"
    }
   ],
   "source": [
    "h"
   ]
  }
 ],
 "metadata": {
  "kernelspec": {
   "display_name": "Python 3",
   "language": "python",
   "name": "python3"
  },
  "language_info": {
   "codemirror_mode": {
    "name": "ipython",
    "version": 3
   },
   "file_extension": ".py",
   "mimetype": "text/x-python",
   "name": "python",
   "nbconvert_exporter": "python",
   "pygments_lexer": "ipython3",
   "version": "3.7.7"
  }
 },
 "nbformat": 4,
 "nbformat_minor": 2
}
