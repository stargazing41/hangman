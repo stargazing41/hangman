{
 "cells": [
  {
   "cell_type": "code",
   "execution_count": 3,
   "metadata": {},
   "outputs": [
    {
     "name": "stdout",
     "output_type": "stream",
     "text": [
      "500000\n",
      "more\n",
      "750000\n",
      "less\n",
      "650000\n",
      "more\n",
      "700000\n",
      "more\n",
      "725000\n",
      "less\n",
      "715000\n",
      "less\n",
      "705000\n",
      "more\n",
      "710000\n",
      "more\n",
      "712000\n",
      "less\n",
      "711000\n",
      "less\n",
      "710500\n",
      "more\n",
      "710750\n",
      "more\n",
      "715900\n",
      "less\n",
      "710800\n",
      "more\n",
      "710850\n",
      "more\n",
      "710875\n",
      "more\n",
      "710890\n",
      "more\n",
      "710895\n",
      "more\n",
      "710898\n",
      "more\n",
      "710899\n",
      "more\n",
      "710950\n",
      "less\n",
      "710925\n",
      "more\n",
      "710935\n",
      "more\n",
      "710945\n",
      "less\n",
      "710940\n",
      "less\n",
      "710938\n",
      "correct\n",
      "you guessed 26 times\n",
      "your score is 75\n",
      "the smallest score you can get is 0\n",
      "try again!!!!!\n",
      "copyright derick production inc.\n"
     ]
    }
   ],
   "source": [
    "import random\n",
    "\n",
    "c=1\n",
    "number=random.randint(1,100)\n",
    "while(c<=100):\n",
    "    check=int(input())\n",
    "    if check>number:\n",
    "        print('less')\n",
    "    elif check<number:\n",
    "        print('more')\n",
    "    elif check==number:\n",
    "        print('correct')\n",
    "        print('you guessed %d times'%c)\n",
    "        print('your score is %d'%(100-c+1))\n",
    "        print('the smallest score you can get is 0')\n",
    "        print('try again!!!!!')\n",
    "        print('copyright derick production inc.')\n",
    "        break\n",
    "    c=c+1"
   ]
  },
  {
   "cell_type": "code",
   "execution_count": 58,
   "metadata": {},
   "outputs": [],
   "source": [
    "moms usall is 6 score of 94\n",
    "dads usall is 7,6 score of 94,95\n",
    "dericks usall is 6,12,11,9,5,7 score of 95,89,90,92,96,94\n",
    "brandons usall is 11 score of 90\n",
    "\n",
    "moms highest is 3 her score is 98\n",
    "dads highest is 5 his score is 96\n",
    "brandons highest is 11 his score is 90\n",
    "dericks score is 4 his score is 97"
   ]
  },
  {
   "cell_type": "code",
   "execution_count": 67,
   "metadata": {},
   "outputs": [
    {
     "data": {
      "text/plain": [
       "7.076923076923077"
      ]
     },
     "execution_count": 67,
     "metadata": {},
     "output_type": "execute_result"
    }
   ],
   "source": [
    "(6+3+7+6+5+11+6+12+11+9+5+7+4)/13"
   ]
  },
  {
   "cell_type": "code",
   "execution_count": 13,
   "metadata": {},
   "outputs": [
    {
     "name": "stdout",
     "output_type": "stream",
     "text": [
      "50\n",
      "more\n",
      "80\n",
      "less\n",
      "60\n",
      "more\n",
      "70\n",
      "more\n",
      "72\n",
      "more\n",
      "78\n",
      "less\n",
      "76\n",
      "less\n",
      "74\n",
      "correct\n",
      "you gessed 8 times\n",
      "your score is 93\n",
      "the smalest score you can get is 80\n",
      "you did great try again!!!\n",
      "copyright derick production inc.!!!!\n"
     ]
    }
   ],
   "source": [
    "import random\n",
    "\n",
    "while(True):\n",
    "    number=random.randint(0,100)\n",
    "    if number%2==0:\n",
    "        break\n",
    "\n",
    "\n",
    "c=1\n",
    "while(c<=20):\n",
    "    if number%2==0:\n",
    "        check=int(input())\n",
    "        if check%2==0:\n",
    "            if check>number:\n",
    "                print('less')\n",
    "            elif check<number:\n",
    "                print('more')\n",
    "            elif check==number:\n",
    "                print('correct')\n",
    "                print('you gessed %d times'%c)\n",
    "                print('your score is %d'%(100-c+1))\n",
    "                print('the smalest score you can get is 80')\n",
    "                print('you did great try again!!!')\n",
    "                print('copyright derick production inc.!!!!')\n",
    "                break\n",
    "            c=c+1"
   ]
  },
  {
   "cell_type": "code",
   "execution_count": null,
   "metadata": {},
   "outputs": [],
   "source": [
    "dericks usall is 3 %98\n",
    "brandons usall is 14 %87\n",
    "\n",
    "\n",
    "brandons high score is 14 %87\n",
    "dericks high score is 3 %98"
   ]
  },
  {
   "cell_type": "code",
   "execution_count": 90,
   "metadata": {},
   "outputs": [
    {
     "name": "stdout",
     "output_type": "stream",
     "text": [
      "51\n",
      "more\n",
      "65\n",
      "less\n",
      "63\n",
      "less\n",
      "61\n",
      "correct\n",
      "you gessed 4 times\n",
      "your score is 96\n"
     ]
    }
   ],
   "source": [
    "import random\n",
    "\n",
    "while(True):\n",
    "    number=random.randint(0,100)\n",
    "    if number%2==1:\n",
    "        break\n",
    "\n",
    "\n",
    "c=1\n",
    "while(c<=14):\n",
    "    if number%2==1:\n",
    "        check=int(input())\n",
    "        if check%2==1:\n",
    "            if check>number:\n",
    "                print('less')\n",
    "            elif check<number:\n",
    "                print('more')\n",
    "            elif check==number:\n",
    "                print('correct')\n",
    "                print('you gessed %d times'%c)\n",
    "                print('your score is %d'%(100-c+1))\n",
    "                print('you did great try again!!!')\n",
    "                print('copyright derick pruduction inc.')\n",
    "                break\n",
    "            c=c+1"
   ]
  },
  {
   "cell_type": "code",
   "execution_count": null,
   "metadata": {},
   "outputs": [],
   "source": [
    "dericks usall is 6 %95\n",
    "\n",
    "\n",
    "dericks high score is 4 %97"
   ]
  },
  {
   "cell_type": "code",
   "execution_count": 205,
   "metadata": {},
   "outputs": [
    {
     "name": "stdout",
     "output_type": "stream",
     "text": [
      "85\n",
      "85\n",
      "correct\n",
      "you gessed 1 times\n",
      "your score is 100\n"
     ]
    }
   ],
   "source": [
    "import random\n",
    "\n",
    "while(True):\n",
    "    number=random.randint(0,100)\n",
    "    if number%5==0:\n",
    "        print(number)\n",
    "        break\n",
    "        \n",
    "        \n",
    "        \n",
    "        \n",
    "c=1\n",
    "while(c<=10):\n",
    "    if number%5==0:\n",
    "        check=int(input())\n",
    "        if check%5==0:\n",
    "            if check>number:\n",
    "                print('less')\n",
    "            elif check<number:\n",
    "                print('more')\n",
    "            elif check==number:\n",
    "                print('correct')\n",
    "                print('you gessed %d times'%c)\n",
    "                print('your score is %d'%(100-c+1))\n",
    "                print('you did great try again')\n",
    "                print('copyright derick pruduction inc.')\n",
    "                break\n",
    "            c=c+1"
   ]
  },
  {
   "cell_type": "code",
   "execution_count": null,
   "metadata": {},
   "outputs": [],
   "source": [
    "dericks usall is 3 %98\n",
    "moms usall is 5 %96\n",
    "\n",
    "moms high score is 5 %96\n",
    "dericks high score is 1 %100"
   ]
  },
  {
   "cell_type": "code",
   "execution_count": 202,
   "metadata": {},
   "outputs": [
    {
     "name": "stdout",
     "output_type": "stream",
     "text": [
      "57\n"
     ]
    }
   ],
   "source": [
    "import random\n",
    "\n",
    "while(True):\n",
    "    number=random.randint(0,100)\n",
    "    if number%2==1:\n",
    "        print(number)\n",
    "        break"
   ]
  },
  {
   "cell_type": "code",
   "execution_count": 212,
   "metadata": {},
   "outputs": [
    {
     "ename": "KeyboardInterrupt",
     "evalue": "",
     "output_type": "error",
     "traceback": [
      "\u001b[0;31m---------------------------------------------------------------------------\u001b[0m",
      "\u001b[0;31mKeyboardInterrupt\u001b[0m                         Traceback (most recent call last)",
      "\u001b[0;32m~/opt/anaconda3/lib/python3.7/site-packages/ipykernel/kernelbase.py\u001b[0m in \u001b[0;36m_input_request\u001b[0;34m(self, prompt, ident, parent, password)\u001b[0m\n\u001b[1;32m    884\u001b[0m             \u001b[0;32mtry\u001b[0m\u001b[0;34m:\u001b[0m\u001b[0;34m\u001b[0m\u001b[0;34m\u001b[0m\u001b[0m\n\u001b[0;32m--> 885\u001b[0;31m                 \u001b[0mident\u001b[0m\u001b[0;34m,\u001b[0m \u001b[0mreply\u001b[0m \u001b[0;34m=\u001b[0m \u001b[0mself\u001b[0m\u001b[0;34m.\u001b[0m\u001b[0msession\u001b[0m\u001b[0;34m.\u001b[0m\u001b[0mrecv\u001b[0m\u001b[0;34m(\u001b[0m\u001b[0mself\u001b[0m\u001b[0;34m.\u001b[0m\u001b[0mstdin_socket\u001b[0m\u001b[0;34m,\u001b[0m \u001b[0;36m0\u001b[0m\u001b[0;34m)\u001b[0m\u001b[0;34m\u001b[0m\u001b[0;34m\u001b[0m\u001b[0m\n\u001b[0m\u001b[1;32m    886\u001b[0m             \u001b[0;32mexcept\u001b[0m \u001b[0mException\u001b[0m\u001b[0;34m:\u001b[0m\u001b[0;34m\u001b[0m\u001b[0;34m\u001b[0m\u001b[0m\n",
      "\u001b[0;32m~/opt/anaconda3/lib/python3.7/site-packages/jupyter_client/session.py\u001b[0m in \u001b[0;36mrecv\u001b[0;34m(self, socket, mode, content, copy)\u001b[0m\n\u001b[1;32m    802\u001b[0m         \u001b[0;32mtry\u001b[0m\u001b[0;34m:\u001b[0m\u001b[0;34m\u001b[0m\u001b[0;34m\u001b[0m\u001b[0m\n\u001b[0;32m--> 803\u001b[0;31m             \u001b[0mmsg_list\u001b[0m \u001b[0;34m=\u001b[0m \u001b[0msocket\u001b[0m\u001b[0;34m.\u001b[0m\u001b[0mrecv_multipart\u001b[0m\u001b[0;34m(\u001b[0m\u001b[0mmode\u001b[0m\u001b[0;34m,\u001b[0m \u001b[0mcopy\u001b[0m\u001b[0;34m=\u001b[0m\u001b[0mcopy\u001b[0m\u001b[0;34m)\u001b[0m\u001b[0;34m\u001b[0m\u001b[0;34m\u001b[0m\u001b[0m\n\u001b[0m\u001b[1;32m    804\u001b[0m         \u001b[0;32mexcept\u001b[0m \u001b[0mzmq\u001b[0m\u001b[0;34m.\u001b[0m\u001b[0mZMQError\u001b[0m \u001b[0;32mas\u001b[0m \u001b[0me\u001b[0m\u001b[0;34m:\u001b[0m\u001b[0;34m\u001b[0m\u001b[0;34m\u001b[0m\u001b[0m\n",
      "\u001b[0;32m~/opt/anaconda3/lib/python3.7/site-packages/zmq/sugar/socket.py\u001b[0m in \u001b[0;36mrecv_multipart\u001b[0;34m(self, flags, copy, track)\u001b[0m\n\u001b[1;32m    474\u001b[0m         \"\"\"\n\u001b[0;32m--> 475\u001b[0;31m         \u001b[0mparts\u001b[0m \u001b[0;34m=\u001b[0m \u001b[0;34m[\u001b[0m\u001b[0mself\u001b[0m\u001b[0;34m.\u001b[0m\u001b[0mrecv\u001b[0m\u001b[0;34m(\u001b[0m\u001b[0mflags\u001b[0m\u001b[0;34m,\u001b[0m \u001b[0mcopy\u001b[0m\u001b[0;34m=\u001b[0m\u001b[0mcopy\u001b[0m\u001b[0;34m,\u001b[0m \u001b[0mtrack\u001b[0m\u001b[0;34m=\u001b[0m\u001b[0mtrack\u001b[0m\u001b[0;34m)\u001b[0m\u001b[0;34m]\u001b[0m\u001b[0;34m\u001b[0m\u001b[0;34m\u001b[0m\u001b[0m\n\u001b[0m\u001b[1;32m    476\u001b[0m         \u001b[0;31m# have first part already, only loop while more to receive\u001b[0m\u001b[0;34m\u001b[0m\u001b[0;34m\u001b[0m\u001b[0;34m\u001b[0m\u001b[0m\n",
      "\u001b[0;32mzmq/backend/cython/socket.pyx\u001b[0m in \u001b[0;36mzmq.backend.cython.socket.Socket.recv\u001b[0;34m()\u001b[0m\n",
      "\u001b[0;32mzmq/backend/cython/socket.pyx\u001b[0m in \u001b[0;36mzmq.backend.cython.socket.Socket.recv\u001b[0;34m()\u001b[0m\n",
      "\u001b[0;32mzmq/backend/cython/socket.pyx\u001b[0m in \u001b[0;36mzmq.backend.cython.socket._recv_copy\u001b[0;34m()\u001b[0m\n",
      "\u001b[0;32m~/opt/anaconda3/lib/python3.7/site-packages/zmq/backend/cython/checkrc.pxd\u001b[0m in \u001b[0;36mzmq.backend.cython.checkrc._check_rc\u001b[0;34m()\u001b[0m\n",
      "\u001b[0;31mKeyboardInterrupt\u001b[0m: ",
      "\nDuring handling of the above exception, another exception occurred:\n",
      "\u001b[0;31mKeyboardInterrupt\u001b[0m                         Traceback (most recent call last)",
      "\u001b[0;32m<ipython-input-212-ccb076c2db7e>\u001b[0m in \u001b[0;36m<module>\u001b[0;34m\u001b[0m\n\u001b[1;32m      8\u001b[0m \u001b[0;32mwhile\u001b[0m\u001b[0;34m(\u001b[0m\u001b[0mc\u001b[0m\u001b[0;34m<=\u001b[0m\u001b[0;36m7\u001b[0m\u001b[0;34m)\u001b[0m\u001b[0;34m:\u001b[0m\u001b[0;34m\u001b[0m\u001b[0;34m\u001b[0m\u001b[0m\n\u001b[1;32m      9\u001b[0m     \u001b[0;32mif\u001b[0m \u001b[0mnumber\u001b[0m\u001b[0;34m%\u001b[0m\u001b[0;36m3\u001b[0m\u001b[0;34m==\u001b[0m\u001b[0;36m0\u001b[0m\u001b[0;34m:\u001b[0m\u001b[0;34m\u001b[0m\u001b[0;34m\u001b[0m\u001b[0m\n\u001b[0;32m---> 10\u001b[0;31m         \u001b[0mcheck\u001b[0m\u001b[0;34m=\u001b[0m\u001b[0mint\u001b[0m\u001b[0;34m(\u001b[0m\u001b[0minput\u001b[0m\u001b[0;34m(\u001b[0m\u001b[0;34m)\u001b[0m\u001b[0;34m)\u001b[0m\u001b[0;34m\u001b[0m\u001b[0;34m\u001b[0m\u001b[0m\n\u001b[0m\u001b[1;32m     11\u001b[0m         \u001b[0;32mif\u001b[0m \u001b[0mcheck\u001b[0m\u001b[0;34m%\u001b[0m\u001b[0;36m3\u001b[0m\u001b[0;34m==\u001b[0m\u001b[0;36m0\u001b[0m\u001b[0;34m:\u001b[0m\u001b[0;34m\u001b[0m\u001b[0;34m\u001b[0m\u001b[0m\n\u001b[1;32m     12\u001b[0m             \u001b[0;32mif\u001b[0m \u001b[0mcheck\u001b[0m\u001b[0;34m>\u001b[0m\u001b[0mnumber\u001b[0m\u001b[0;34m:\u001b[0m\u001b[0;34m\u001b[0m\u001b[0;34m\u001b[0m\u001b[0m\n",
      "\u001b[0;32m~/opt/anaconda3/lib/python3.7/site-packages/ipykernel/kernelbase.py\u001b[0m in \u001b[0;36mraw_input\u001b[0;34m(self, prompt)\u001b[0m\n\u001b[1;32m    858\u001b[0m             \u001b[0mself\u001b[0m\u001b[0;34m.\u001b[0m\u001b[0m_parent_ident\u001b[0m\u001b[0;34m,\u001b[0m\u001b[0;34m\u001b[0m\u001b[0;34m\u001b[0m\u001b[0m\n\u001b[1;32m    859\u001b[0m             \u001b[0mself\u001b[0m\u001b[0;34m.\u001b[0m\u001b[0m_parent_header\u001b[0m\u001b[0;34m,\u001b[0m\u001b[0;34m\u001b[0m\u001b[0;34m\u001b[0m\u001b[0m\n\u001b[0;32m--> 860\u001b[0;31m             \u001b[0mpassword\u001b[0m\u001b[0;34m=\u001b[0m\u001b[0;32mFalse\u001b[0m\u001b[0;34m,\u001b[0m\u001b[0;34m\u001b[0m\u001b[0;34m\u001b[0m\u001b[0m\n\u001b[0m\u001b[1;32m    861\u001b[0m         )\n\u001b[1;32m    862\u001b[0m \u001b[0;34m\u001b[0m\u001b[0m\n",
      "\u001b[0;32m~/opt/anaconda3/lib/python3.7/site-packages/ipykernel/kernelbase.py\u001b[0m in \u001b[0;36m_input_request\u001b[0;34m(self, prompt, ident, parent, password)\u001b[0m\n\u001b[1;32m    888\u001b[0m             \u001b[0;32mexcept\u001b[0m \u001b[0mKeyboardInterrupt\u001b[0m\u001b[0;34m:\u001b[0m\u001b[0;34m\u001b[0m\u001b[0;34m\u001b[0m\u001b[0m\n\u001b[1;32m    889\u001b[0m                 \u001b[0;31m# re-raise KeyboardInterrupt, to truncate traceback\u001b[0m\u001b[0;34m\u001b[0m\u001b[0;34m\u001b[0m\u001b[0;34m\u001b[0m\u001b[0m\n\u001b[0;32m--> 890\u001b[0;31m                 \u001b[0;32mraise\u001b[0m \u001b[0mKeyboardInterrupt\u001b[0m\u001b[0;34m\u001b[0m\u001b[0;34m\u001b[0m\u001b[0m\n\u001b[0m\u001b[1;32m    891\u001b[0m             \u001b[0;32melse\u001b[0m\u001b[0;34m:\u001b[0m\u001b[0;34m\u001b[0m\u001b[0;34m\u001b[0m\u001b[0m\n\u001b[1;32m    892\u001b[0m                 \u001b[0;32mbreak\u001b[0m\u001b[0;34m\u001b[0m\u001b[0;34m\u001b[0m\u001b[0m\n",
      "\u001b[0;31mKeyboardInterrupt\u001b[0m: "
     ]
    },
    {
     "name": "stdout",
     "output_type": "stream",
     "text": [
      "1\n"
     ]
    }
   ],
   "source": [
    "import random\n",
    "\n",
    "while(True):\n",
    "    number=random.randint(0,100)\n",
    "    if number%3==0:\n",
    "        break\n",
    "c=1\n",
    "while(c<=7):\n",
    "    if number%3==0:\n",
    "        check=int(input())\n",
    "        if check%3==0:\n",
    "            if check>number:\n",
    "                print('less')\n",
    "            elif check<number:\n",
    "                print('more')\n",
    "            elif check==number:\n",
    "                print('correct')\n",
    "                print('you gessed %d times'%c)\n",
    "                print('your score is %d'%(100-c+1))\n",
    "                break\n",
    "            c=c+1"
   ]
  },
  {
   "cell_type": "code",
   "execution_count": 3,
   "metadata": {
    "scrolled": true
   },
   "outputs": [
    {
     "name": "stdout",
     "output_type": "stream",
     "text": [
      "65\n",
      "10\n"
     ]
    },
    {
     "data": {
      "text/plain": [
       "6.5"
      ]
     },
     "execution_count": 3,
     "metadata": {},
     "output_type": "execute_result"
    }
   ],
   "source": [
    "int(input())/int(input())"
   ]
  },
  {
   "cell_type": "code",
   "execution_count": null,
   "metadata": {},
   "outputs": [],
   "source": []
  }
 ],
 "metadata": {
  "kernelspec": {
   "display_name": "Python 3",
   "language": "python",
   "name": "python3"
  },
  "language_info": {
   "codemirror_mode": {
    "name": "ipython",
    "version": 3
   },
   "file_extension": ".py",
   "mimetype": "text/x-python",
   "name": "python",
   "nbconvert_exporter": "python",
   "pygments_lexer": "ipython3",
   "version": "3.7.4"
  }
 },
 "nbformat": 4,
 "nbformat_minor": 2
}
